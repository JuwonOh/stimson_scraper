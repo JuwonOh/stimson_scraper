{
 "cells": [
  {
   "cell_type": "code",
   "execution_count": 1,
   "metadata": {},
   "outputs": [],
   "source": [
    "import time\n",
    "import Stimson_scraper"
   ]
  },
  {
   "cell_type": "code",
   "execution_count": 2,
   "metadata": {
    "scrolled": true
   },
   "outputs": [
    {
     "name": "stdout",
     "output_type": "stream",
     "text": [
      "get briefing security statement urls 0 / 2\n",
      "get briefing security statement urls 1 / 2\n",
      "get briefing security statement urls 2 / 2\n",
      "45 security_urls for all news\n",
      "get briefing people statement urls 0 / 2\n",
      "get briefing people statement urls 1 / 2\n",
      "get briefing people statement urls 2 / 2\n",
      "45 people_urls for all news\n",
      "get briefing pivot statement urls 0 / 2\n",
      "get briefing pivot statement urls 1 / 2\n",
      "get briefing pivot statement urls 2 / 2\n",
      "45 pivot_urls for all news\n",
      "get briefing planet statement urls 0 / 2\n",
      "get briefing planet statement urls 1 / 2\n",
      "get briefing planet statement urls 2 / 2\n",
      "45 planet_urls for all news\n"
     ]
    }
   ],
   "source": [
    "from Stimson_scraper import get_security_urls\n",
    "from Stimson_scraper import get_people_urls\n",
    "from Stimson_scraper import get_pivot_urls\n",
    "from Stimson_scraper import get_planet_urls\n",
    "from Stimson_scraper import get_planet_urls\n",
    "\n",
    "security_urls = get_security_urls(begin_page=0, end_page=2, verbose=True)\n",
    "print('%d security_urls for all news' % len(security_urls))\n",
    "people_urls = get_people_urls(begin_page=0, end_page=2, verbose=True)\n",
    "print('%d people_urls for all news' % len(people_urls))\n",
    "pivot_urls = get_pivot_urls(begin_page=0, end_page=2, verbose=True)\n",
    "print('%d pivot_urls for all news' % len(pivot_urls))\n",
    "planet_urls = get_planet_urls(begin_page=0, end_page=2, verbose=True)\n",
    "print('%d planet_urls for all news' % len(planet_urls))"
   ]
  },
  {
   "cell_type": "code",
   "execution_count": 3,
   "metadata": {},
   "outputs": [
    {
     "name": "stdout",
     "output_type": "stream",
     "text": [
      "title : Stimson Researcher Briefs UN Security Council on Climate-Security Connection ..\n",
      "time : Jan 25, 2019 ..\n",
      "content : ['Security sector reform develops effective and accountable security institutions based on internati ..\n",
      "author : ['Lindsay Getschel'] ..\n",
      "url : https://www.stimson.org/content/stimson-researcher-briefs-un-security-council-climate-security-conne ..\n",
      "scrap_time : 2019-02-26 03:22:28 ..\n",
      "\n",
      "\n",
      "title : UAE Energy Diplomacy: Exporting Renewable Energy to the Global South ..\n",
      "time : Sep 27, 2018 ..\n",
      "content : ['Security sector reform develops effective and accountable security institutions based on internati ..\n",
      "author : ['Brian Eyler', 'Courtney Weatherby'] ..\n",
      "url : https://www.stimson.org/content/uae-energy-diplomacy ..\n",
      "scrap_time : 2019-02-26 03:22:34 ..\n",
      "\n",
      "\n",
      "title : PROJECT ANNOUNCEMENT: Climate Change, Resource Scarcity, and Security: Identifying Coastal Vulnerabi ..\n",
      "time : May 23, 2018 ..\n",
      "content : ['Security sector reform develops effective and accountable security institutions based on internati ..\n",
      "author : ['Lindsay Getschel', 'Amanda Shaver', 'Sally Yozell'] ..\n",
      "url : https://www.stimson.org/content/project-announcement-climate-change-resource-scarcity-and-security-i ..\n",
      "scrap_time : 2019-02-26 03:22:38 ..\n",
      "\n",
      "\n",
      "title : Field Notes - Deep Geological Repository at Olkiluoto, Finland ..\n",
      "time : Jan 3, 2019 ..\n",
      "content : ['Security sector reform develops effective and accountable security institutions based on internati ..\n",
      "author : ['Cindy Vestergaard'] ..\n",
      "url : https://www.stimson.org/content/field-notes-deep-geological-repository-olkiluoto-finland ..\n",
      "scrap_time : 2019-02-26 03:23:56 ..\n",
      "\n",
      "\n",
      "title : ATT Reaches Milestone 100 States Parties ..\n",
      "time : Dec 14, 2018 ..\n",
      "content : ['Security sector reform develops effective and accountable security institutions based on internati ..\n",
      "author : ['Rachel Stohl'] ..\n",
      "url : https://www.stimson.org/content/att-reaches-milestone-100-states-parties ..\n",
      "scrap_time : 2019-02-26 03:23:59 ..\n",
      "\n",
      "\n",
      "title : Amazon in Crystal City: Threat and Opportunity for the Defense Department ..\n",
      "time : Dec 7, 2018 ..\n",
      "content : ['Security sector reform develops effective and accountable security institutions based on internati ..\n",
      "author : ['Melanie W. Sisson'] ..\n",
      "url : https://www.stimson.org/content/amazon-crystal-city-threat-and-opportunity-defense-department ..\n",
      "scrap_time : 2019-02-26 03:24:02 ..\n",
      "\n",
      "\n",
      "title : Managing Indian deterrence: pressures on credible minimum deterrence and nuclear policy options ..\n",
      "time : Feb 4, 2019 ..\n",
      "content : ['Security sector reform develops effective and accountable security institutions based on internati ..\n",
      "author : ['Frank ODonnell'] ..\n",
      "url : https://www.stimson.org/content/managing-indian-deterrence-pressures-credible-minimum-deterrence-and ..\n",
      "scrap_time : 2019-02-26 03:24:06 ..\n",
      "\n",
      "\n",
      "title : Views from the Next Generation ..\n",
      "time : Jan 23, 2019 ..\n",
      "content : ['Security sector reform develops effective and accountable security institutions based on internati ..\n",
      "author : ['Yuki Tatsumi'] ..\n",
      "url : https://www.stimson.org/content/views-next-generation ..\n",
      "scrap_time : 2019-02-26 03:24:10 ..\n",
      "\n",
      "\n",
      "title : The Fourth Estate in South Asia: Media’s Role in Inter-State Crises ..\n",
      "time : Dec 28, 2018 ..\n",
      "content : ['Security sector reform develops effective and accountable security institutions based on internati ..\n",
      "author : ['Hannah Haegeland'] ..\n",
      "url : https://www.stimson.org/content/fourth-estate-south-asia-media%E2%80%99s-role-inter-state-crises ..\n",
      "scrap_time : 2019-02-26 03:24:13 ..\n",
      "\n",
      "\n",
      "title : Preparing to Protect: Advice on Implementing NATO's Protection of Civilian Policy ..\n",
      "time : Jul 18, 2018 ..\n",
      "content : ['Security sector reform develops effective and accountable security institutions based on internati ..\n",
      "author : ['Victoria K. Holt'] ..\n",
      "url : https://www.stimson.org/content/preparing-protect-advice-implementing-natos-protection-civilian-poli ..\n",
      "scrap_time : 2019-02-26 03:24:19 ..\n",
      "\n",
      "\n",
      "title : UN Sustaining Peace Dialogue Debrief  ..\n",
      "time : May 9, 2018 ..\n",
      "content : ['Security sector reform develops effective and accountable security institutions based on internati ..\n",
      "author : ['Richard Ponzio'] ..\n",
      "url : https://www.stimson.org/content/un-sustaining-peace-dialogue-debrief ..\n",
      "scrap_time : 2019-02-26 03:24:23 ..\n",
      "\n",
      "\n",
      "title : U.N. Peacekeeping & Host-State Consent ..\n",
      "time : Mar 13, 2018 ..\n",
      "content : ['Security sector reform develops effective and accountable security institutions based on internati ..\n",
      "author : ['Aditi Gorur'] ..\n",
      "url : https://www.stimson.org/content/un-peacekeeping-host-state-consent ..\n",
      "scrap_time : 2019-02-26 03:24:27 ..\n",
      "\n",
      "\n"
     ]
    }
   ],
   "source": [
    "from Stimson_scraper import parse_page\n",
    "def pprint(json_object):\n",
    "    for k, v in json_object.items():\n",
    "        print('{} : {} ..'.format(k, str(v)[:100]))\n",
    "    print('\\n')\n",
    "\n",
    "SLEEP = 0.5\n",
    "\n",
    "for url in planet_urls[:3]:\n",
    "    json_object = parse_page(url)\n",
    "    pprint(json_object)\n",
    "    \n",
    "for url in security_urls[:3]:\n",
    "    json_object = parse_page(url)\n",
    "    pprint(json_object)\n",
    "\n",
    "for url in pivot_urls[:3]:\n",
    "    json_object = parse_page(url)\n",
    "    pprint(json_object)\n",
    "    \n",
    "for url in people_urls[:3]:\n",
    "    json_object = parse_page(url)\n",
    "    pprint(json_object)    "
   ]
  },
  {
   "cell_type": "code",
   "execution_count": 4,
   "metadata": {},
   "outputs": [
    {
     "name": "stdout",
     "output_type": "stream",
     "text": [
      "[1 / 5] (Jan 3, 2019) Field Notes - Deep Geological Repository at Olkiluoto, Finland\n",
      "[2 / 5] (Dec 14, 2018) ATT Reaches Milestone 100 States Parties\n",
      "[3 / 5] (Dec 7, 2018) Amazon in Crystal City: Threat and Opportunity for the Defense Department\n",
      "[4 / 5] (Nov 16, 2018) Shaping Strong Security Norms\n",
      "[5 / 5] (Nov 13, 2018) Nukes, the New Congress, and the Lost Art of Political Compromise\n"
     ]
    }
   ],
   "source": [
    "from Stimson_scraper import get_latest_allsecurity\n",
    "\n",
    "begin_date = '2018-07-01'\n",
    "max_num = 5\n",
    "sleep = 1.0\n",
    "\n",
    "for i, json_obj in enumerate(get_latest_allsecurity(begin_date, max_num, sleep)):\n",
    "    title = json_obj['title']\n",
    "    time = json_obj['time']\n",
    "    print('[{} / {}] ({}) {}'.format(i+1, max_num, time, title))"
   ]
  },
  {
   "cell_type": "code",
   "execution_count": 5,
   "metadata": {},
   "outputs": [
    {
     "name": "stdout",
     "output_type": "stream",
     "text": [
      "[1 / 5] (Jul 18, 2018) Preparing to Protect: Advice on Implementing NATO's Protection of Civilian Policy\n",
      "Stop scrapping. 1 / 5 news was scrapped\n",
      "The oldest people category has been created after 2018-07-01\n"
     ]
    }
   ],
   "source": [
    "from Stimson_scraper import get_latest_allpeople\n",
    "\n",
    "begin_date = '2018-07-01'\n",
    "max_num = 5\n",
    "sleep = 1.0\n",
    "\n",
    "for i, json_obj in enumerate(get_latest_allpeople(begin_date, max_num, sleep)):\n",
    "    title = json_obj['title']\n",
    "    time = json_obj['time']\n",
    "    print('[{} / {}] ({}) {}'.format(i+1, max_num, time, title))"
   ]
  },
  {
   "cell_type": "code",
   "execution_count": 6,
   "metadata": {},
   "outputs": [
    {
     "name": "stdout",
     "output_type": "stream",
     "text": [
      "[1 / 5] (Jan 3, 2019) Field Notes - Deep Geological Repository at Olkiluoto, Finland\n",
      "[2 / 5] (Dec 14, 2018) ATT Reaches Milestone 100 States Parties\n",
      "[3 / 5] (Dec 7, 2018) Amazon in Crystal City: Threat and Opportunity for the Defense Department\n",
      "[4 / 5] (Nov 16, 2018) Shaping Strong Security Norms\n",
      "[5 / 5] (Nov 13, 2018) Nukes, the New Congress, and the Lost Art of Political Compromise\n"
     ]
    }
   ],
   "source": [
    "from Stimson_scraper import get_latest_allsecurity\n",
    "\n",
    "begin_date = '2018-07-01'\n",
    "max_num = 5\n",
    "sleep = 1.0\n",
    "\n",
    "for i, json_obj in enumerate(get_latest_allsecurity(begin_date, max_num, sleep)):\n",
    "    title = json_obj['title']\n",
    "    time = json_obj['time']\n",
    "    print('[{} / {}] ({}) {}'.format(i+1, max_num, time, title))"
   ]
  },
  {
   "cell_type": "code",
   "execution_count": 7,
   "metadata": {},
   "outputs": [
    {
     "name": "stdout",
     "output_type": "stream",
     "text": [
      "[1 / 5] (Feb 4, 2019) Managing Indian deterrence: pressures on credible minimum deterrence and nuclear policy options\n",
      "[2 / 5] (Jan 23, 2019) Views from the Next Generation\n",
      "[3 / 5] (Dec 28, 2018) The Fourth Estate in South Asia: Media’s Role in Inter-State Crises\n",
      "[4 / 5] (Dec 10, 2018) Indian Media Plays a Crucial Role in Times of Crises With Pakistan\n",
      "[5 / 5] (Dec 5, 2018) The Northern Sea Route\n"
     ]
    }
   ],
   "source": [
    "from Stimson_scraper import get_latest_allpivot\n",
    "begin_date = '2018-07-01'\n",
    "max_num = 5\n",
    "sleep = 1.0\n",
    "\n",
    "for i, json_obj in enumerate(get_latest_allpivot(begin_date, max_num, sleep)):\n",
    "    title = json_obj['title']\n",
    "    time = json_obj['time']\n",
    "    print('[{} / {}] ({}) {}'.format(i+1, max_num, time, title))"
   ]
  }
 ],
 "metadata": {
  "kernelspec": {
   "display_name": "Python 3",
   "language": "python",
   "name": "python3"
  },
  "language_info": {
   "codemirror_mode": {
    "name": "ipython",
    "version": 3
   },
   "file_extension": ".py",
   "mimetype": "text/x-python",
   "name": "python",
   "nbconvert_exporter": "python",
   "pygments_lexer": "ipython3",
   "version": "3.7.1"
  },
  "varInspector": {
   "cols": {
    "lenName": 16,
    "lenType": 16,
    "lenVar": 40
   },
   "kernels_config": {
    "python": {
     "delete_cmd_postfix": "",
     "delete_cmd_prefix": "del ",
     "library": "var_list.py",
     "varRefreshCmd": "print(var_dic_list())"
    },
    "r": {
     "delete_cmd_postfix": ") ",
     "delete_cmd_prefix": "rm(",
     "library": "var_list.r",
     "varRefreshCmd": "cat(var_dic_list()) "
    }
   },
   "oldHeight": 122.545454,
   "position": {
    "height": "40px",
    "left": "1205.45px",
    "right": "20px",
    "top": "126px",
    "width": "250px"
   },
   "types_to_exclude": [
    "module",
    "function",
    "builtin_function_or_method",
    "instance",
    "_Feature"
   ],
   "varInspector_section_display": "none",
   "window_display": true
  }
 },
 "nbformat": 4,
 "nbformat_minor": 2
}
